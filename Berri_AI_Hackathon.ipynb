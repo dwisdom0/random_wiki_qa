{
  "nbformat": 4,
  "nbformat_minor": 0,
  "metadata": {
    "colab": {
      "provenance": []
    },
    "kernelspec": {
      "name": "python3",
      "display_name": "Python 3"
    },
    "language_info": {
      "name": "python"
    }
  },
  "cells": [
    {
      "cell_type": "code",
      "source": [
        "!pip install wikipedia-api -q"
      ],
      "metadata": {
        "id": "TpkG-45tEb99"
      },
      "execution_count": null,
      "outputs": []
    },
    {
      "cell_type": "code",
      "execution_count": null,
      "metadata": {
        "id": "R0VM4n0IyPIr"
      },
      "outputs": [],
      "source": [
        "import time\n",
        "import json\n",
        "import string\n",
        "\n",
        "import requests\n",
        "import wikipediaapi\n",
        "\n",
        "EMAIL = ''\n",
        "\n",
        "wiki = wikipediaapi.Wikipedia(\n",
        "  language='en',\n",
        "  extract_format=wikipediaapi.ExtractFormat.WIKI\n",
        ")\n",
        "\n",
        "def random_page():\n",
        "  url = 'https://en.wikipedia.org/api/rest_v1/page/random/title'\n",
        "  title = requests.get(url).json()['items'][0]['title']\n",
        "\n",
        "  main_page = wiki.page(title)\n",
        "  related_pages = get_related(title)\n",
        "  sentences = []\n",
        "  for page in [main_page, *related_pages]:\n",
        "    sentences.extend(parse_page(page))\n",
        "    time.sleep(0.2)  # one of these is redundant but I don't know which\n",
        "  \n",
        "  return title, sentences\n",
        "\n",
        "def get_related(title):\n",
        "  resp = requests.get(f'https://en.wikipedia.org/api/rest_v1/page/related/{title}').json()\n",
        "  titles = []\n",
        "  for page in resp['pages']:\n",
        "    titles.append(page['title'])\n",
        "  pages = []\n",
        "  for title in titles:\n",
        "    pages.append(wiki.page(title))\n",
        "    time.sleep(0.2)  # one of these is redundant but I don't know which\n",
        "  return pages\n",
        "\n",
        "def parse_page(page):\n",
        "  sections = page.text.splitlines()\n",
        "  sentences = []\n",
        "  for section in sections:\n",
        "    new_sentences = section.split('. ')\n",
        "    clean_sentences = []\n",
        "    # make a translation that deletes all punctuation so that I can run it on\n",
        "    # all the sentences and get rid of ones that are just punctuation\n",
        "    # with some whitespace\n",
        "    trans = ''.maketrans('','',string.punctuation)\n",
        "    for sentence in new_sentences:\n",
        "      stripped = sentence.translate(trans).strip()\n",
        "      if stripped == '':\n",
        "        continue\n",
        "      # I want the version that has punctuation\n",
        "      clean_sentences.append(sentence)\n",
        "    sentences.extend(clean_sentences)\n",
        "\n",
        "  return sentences \n",
        "\n",
        "def create_template():\n",
        "  template_url = 'https://api.berri.ai/create_template'\n",
        "\n",
        "  template_config = {\"advanced\": {\n",
        "    \"intent\": \"qa_doc\",\n",
        "    \"search\": \"default\"\n",
        "    }\n",
        "  }\n",
        "  resp = requests.post(template_url, data={\"app_config\": json.dumps(template_config)})\n",
        "  return resp.json()\n",
        "\n",
        "def create_instance(template_id):\n",
        "  title, sentences = random_page()\n",
        "  create_url = 'https://api.berri.ai/create_app'\n",
        "  config = {\n",
        "      'template_id': template_id,\n",
        "      'user_email':EMAIL,\n",
        "      'data_source': json.dumps(sentences),\n",
        "      'prompt': f'You help people learn more about {title} using information from Wikipedia! You start each conversation with a fun fact about {title}!',\n",
        "  }\n",
        "  resp = requests.post(url=create_url, data=config)\n",
        "  return resp.json()\n",
        "\n",
        "def delete_instance(instance_id):\n",
        "  delete_url = 'https://api.berri.ai/delete_instance'\n",
        "  params = {\n",
        "      'user_email': EMAIL,\n",
        "      'instance_id': instance_id\n",
        "  }\n",
        "  r = requests.post(url=delete_url, params=params)\n",
        "  return r.json()"
      ]
    },
    {
      "cell_type": "code",
      "source": [
        "template_id = create_template()['template_id']\n",
        "app_json = create_instance(template_id)\n",
        "app_id = app_json['instance_id']\n",
        "app_website = app_json['website_endpoint']\n",
        "print(f'created app {app_id}\\nAccess it here:\\n{app_website}')"
      ],
      "metadata": {
        "colab": {
          "base_uri": "https://localhost:8080/"
        },
        "id": "7wiZ7BZEIi_C",
        "outputId": "fc0c24d9-5db0-4d67-edd9-42b7c0fa66af"
      },
      "execution_count": null,
      "outputs": [
        {
          "output_type": "stream",
          "name": "stdout",
          "text": [
            "created app 7e6e9055-1099-437a-8948-0ec04a9400c8\n",
            "Access it here:\n",
            "chat.berri.ai/aHR0cHM6Ly9zdG9yZXF1ZXJ5YWJoaTItYXlsdS56ZWV0LWJlcnJpLnplZXQuYXBwL2JlcnJpX3F1ZXJ5P3Byb2pfcGF0aD1pbmRleGVzL2ZhY2FkZUBkdWNrLmNvbS83ZTZlOTA1NS0xMDk5LTQzN2EtODk0OC0wZWMwNGE5NDAwYzgmcHJval9uYW1lPWRhdGFfbGlzdCZhZ2VudF90eXBlPXNpbXBsZV9zdXBwb3J0JnF1ZXJ5PQ==\n"
          ]
        }
      ]
    },
    {
      "cell_type": "code",
      "source": [
        "# delete_instance(app_id)"
      ],
      "metadata": {
        "colab": {
          "base_uri": "https://localhost:8080/"
        },
        "id": "75PQvG42gl3r",
        "outputId": "bc2a1ab2-3081-4c52-aacb-aa2a057223f4"
      },
      "execution_count": null,
      "outputs": [
        {
          "output_type": "execute_result",
          "data": {
            "text/plain": [
              "{'message': 'Instance 7e6e9055-1099-437a-8948-0ec04a9400c8 deleted successfully',\n",
              " 'status': 'success'}"
            ]
          },
          "metadata": {},
          "execution_count": 13
        }
      ]
    },
    {
      "cell_type": "code",
      "source": [],
      "metadata": {
        "id": "IxAw2SWkk1hN"
      },
      "execution_count": null,
      "outputs": []
    }
  ]
}